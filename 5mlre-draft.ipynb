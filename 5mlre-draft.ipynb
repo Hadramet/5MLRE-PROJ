{
 "cells": [
  {
   "cell_type": "markdown",
   "id": "bac91bed",
   "metadata": {
    "papermill": {
     "duration": 0.004608,
     "end_time": "2023-03-09T12:14:15.327548",
     "exception": false,
     "start_time": "2023-03-09T12:14:15.322940",
     "status": "completed"
    },
    "tags": []
   },
   "source": [
    "# 🏯 Anime Recommendations Databas"
   ]
  },
  {
   "cell_type": "markdown",
   "id": "e3756ac1",
   "metadata": {
    "papermill": {
     "duration": 0.003177,
     "end_time": "2023-03-09T12:14:15.334449",
     "exception": false,
     "start_time": "2023-03-09T12:14:15.331272",
     "status": "completed"
    },
    "tags": []
   },
   "source": [
    "Bienvenue !\n",
    "\n",
    "#### Rappel du sujet\n",
    "\n",
    "TODO ...\n",
    "\n",
    "\n",
    "\n",
    "\n"
   ]
  },
  {
   "cell_type": "code",
   "execution_count": 1,
   "id": "e8bc4ec9",
   "metadata": {
    "_cell_guid": "b1076dfc-b9ad-4769-8c92-a6c4dae69d19",
    "_uuid": "8f2839f25d086af736a60e9eeb907d3b93b6e0e5",
    "execution": {
     "iopub.execute_input": "2023-03-09T12:14:15.344180Z",
     "iopub.status.busy": "2023-03-09T12:14:15.343193Z",
     "iopub.status.idle": "2023-03-09T12:14:15.356993Z",
     "shell.execute_reply": "2023-03-09T12:14:15.355867Z"
    },
    "papermill": {
     "duration": 0.021972,
     "end_time": "2023-03-09T12:14:15.359909",
     "exception": false,
     "start_time": "2023-03-09T12:14:15.337937",
     "status": "completed"
    },
    "tags": []
   },
   "outputs": [],
   "source": [
    "import numpy as np \n",
    "import pandas as pd\n",
    "from pathlib import Path\n",
    "base_path = Path(\"../input/anime-recommendations-database\")"
   ]
  },
  {
   "cell_type": "code",
   "execution_count": 2,
   "id": "092e94a8",
   "metadata": {
    "execution": {
     "iopub.execute_input": "2023-03-09T12:14:15.369580Z",
     "iopub.status.busy": "2023-03-09T12:14:15.368921Z",
     "iopub.status.idle": "2023-03-09T12:14:18.507107Z",
     "shell.execute_reply": "2023-03-09T12:14:18.505761Z"
    },
    "papermill": {
     "duration": 3.146882,
     "end_time": "2023-03-09T12:14:18.510456",
     "exception": false,
     "start_time": "2023-03-09T12:14:15.363574",
     "status": "completed"
    },
    "tags": []
   },
   "outputs": [],
   "source": [
    "df_anime = pd.read_csv(base_path / \"anime.csv\")\n",
    "df_rating = pd.read_csv(base_path / \"rating.csv\")"
   ]
  },
  {
   "cell_type": "code",
   "execution_count": 3,
   "id": "728045a5",
   "metadata": {
    "execution": {
     "iopub.execute_input": "2023-03-09T12:14:18.519885Z",
     "iopub.status.busy": "2023-03-09T12:14:18.519399Z",
     "iopub.status.idle": "2023-03-09T12:14:18.553751Z",
     "shell.execute_reply": "2023-03-09T12:14:18.552102Z"
    },
    "papermill": {
     "duration": 0.042682,
     "end_time": "2023-03-09T12:14:18.556936",
     "exception": false,
     "start_time": "2023-03-09T12:14:18.514254",
     "status": "completed"
    },
    "tags": []
   },
   "outputs": [
    {
     "data": {
      "text/html": [
       "<div>\n",
       "<style scoped>\n",
       "    .dataframe tbody tr th:only-of-type {\n",
       "        vertical-align: middle;\n",
       "    }\n",
       "\n",
       "    .dataframe tbody tr th {\n",
       "        vertical-align: top;\n",
       "    }\n",
       "\n",
       "    .dataframe thead th {\n",
       "        text-align: right;\n",
       "    }\n",
       "</style>\n",
       "<table border=\"1\" class=\"dataframe\">\n",
       "  <thead>\n",
       "    <tr style=\"text-align: right;\">\n",
       "      <th></th>\n",
       "      <th>anime_id</th>\n",
       "      <th>name</th>\n",
       "      <th>genre</th>\n",
       "      <th>type</th>\n",
       "      <th>episodes</th>\n",
       "      <th>rating</th>\n",
       "      <th>members</th>\n",
       "    </tr>\n",
       "  </thead>\n",
       "  <tbody>\n",
       "    <tr>\n",
       "      <th>0</th>\n",
       "      <td>32281</td>\n",
       "      <td>Kimi no Na wa.</td>\n",
       "      <td>Drama, Romance, School, Supernatural</td>\n",
       "      <td>Movie</td>\n",
       "      <td>1</td>\n",
       "      <td>9.37</td>\n",
       "      <td>200630</td>\n",
       "    </tr>\n",
       "    <tr>\n",
       "      <th>1</th>\n",
       "      <td>5114</td>\n",
       "      <td>Fullmetal Alchemist: Brotherhood</td>\n",
       "      <td>Action, Adventure, Drama, Fantasy, Magic, Mili...</td>\n",
       "      <td>TV</td>\n",
       "      <td>64</td>\n",
       "      <td>9.26</td>\n",
       "      <td>793665</td>\n",
       "    </tr>\n",
       "    <tr>\n",
       "      <th>2</th>\n",
       "      <td>28977</td>\n",
       "      <td>Gintama°</td>\n",
       "      <td>Action, Comedy, Historical, Parody, Samurai, S...</td>\n",
       "      <td>TV</td>\n",
       "      <td>51</td>\n",
       "      <td>9.25</td>\n",
       "      <td>114262</td>\n",
       "    </tr>\n",
       "    <tr>\n",
       "      <th>3</th>\n",
       "      <td>9253</td>\n",
       "      <td>Steins;Gate</td>\n",
       "      <td>Sci-Fi, Thriller</td>\n",
       "      <td>TV</td>\n",
       "      <td>24</td>\n",
       "      <td>9.17</td>\n",
       "      <td>673572</td>\n",
       "    </tr>\n",
       "    <tr>\n",
       "      <th>4</th>\n",
       "      <td>9969</td>\n",
       "      <td>Gintama&amp;#039;</td>\n",
       "      <td>Action, Comedy, Historical, Parody, Samurai, S...</td>\n",
       "      <td>TV</td>\n",
       "      <td>51</td>\n",
       "      <td>9.16</td>\n",
       "      <td>151266</td>\n",
       "    </tr>\n",
       "  </tbody>\n",
       "</table>\n",
       "</div>"
      ],
      "text/plain": [
       "   anime_id                              name  \\\n",
       "0     32281                    Kimi no Na wa.   \n",
       "1      5114  Fullmetal Alchemist: Brotherhood   \n",
       "2     28977                          Gintama°   \n",
       "3      9253                       Steins;Gate   \n",
       "4      9969                     Gintama&#039;   \n",
       "\n",
       "                                               genre   type episodes  rating  \\\n",
       "0               Drama, Romance, School, Supernatural  Movie        1    9.37   \n",
       "1  Action, Adventure, Drama, Fantasy, Magic, Mili...     TV       64    9.26   \n",
       "2  Action, Comedy, Historical, Parody, Samurai, S...     TV       51    9.25   \n",
       "3                                   Sci-Fi, Thriller     TV       24    9.17   \n",
       "4  Action, Comedy, Historical, Parody, Samurai, S...     TV       51    9.16   \n",
       "\n",
       "   members  \n",
       "0   200630  \n",
       "1   793665  \n",
       "2   114262  \n",
       "3   673572  \n",
       "4   151266  "
      ]
     },
     "execution_count": 3,
     "metadata": {},
     "output_type": "execute_result"
    }
   ],
   "source": [
    "df_anime.head()"
   ]
  },
  {
   "cell_type": "code",
   "execution_count": 4,
   "id": "96f45c5d",
   "metadata": {
    "execution": {
     "iopub.execute_input": "2023-03-09T12:14:18.567954Z",
     "iopub.status.busy": "2023-03-09T12:14:18.566884Z",
     "iopub.status.idle": "2023-03-09T12:14:18.578448Z",
     "shell.execute_reply": "2023-03-09T12:14:18.577092Z"
    },
    "papermill": {
     "duration": 0.019618,
     "end_time": "2023-03-09T12:14:18.581024",
     "exception": false,
     "start_time": "2023-03-09T12:14:18.561406",
     "status": "completed"
    },
    "tags": []
   },
   "outputs": [
    {
     "data": {
      "text/html": [
       "<div>\n",
       "<style scoped>\n",
       "    .dataframe tbody tr th:only-of-type {\n",
       "        vertical-align: middle;\n",
       "    }\n",
       "\n",
       "    .dataframe tbody tr th {\n",
       "        vertical-align: top;\n",
       "    }\n",
       "\n",
       "    .dataframe thead th {\n",
       "        text-align: right;\n",
       "    }\n",
       "</style>\n",
       "<table border=\"1\" class=\"dataframe\">\n",
       "  <thead>\n",
       "    <tr style=\"text-align: right;\">\n",
       "      <th></th>\n",
       "      <th>user_id</th>\n",
       "      <th>anime_id</th>\n",
       "      <th>rating</th>\n",
       "    </tr>\n",
       "  </thead>\n",
       "  <tbody>\n",
       "    <tr>\n",
       "      <th>0</th>\n",
       "      <td>1</td>\n",
       "      <td>20</td>\n",
       "      <td>-1</td>\n",
       "    </tr>\n",
       "    <tr>\n",
       "      <th>1</th>\n",
       "      <td>1</td>\n",
       "      <td>24</td>\n",
       "      <td>-1</td>\n",
       "    </tr>\n",
       "    <tr>\n",
       "      <th>2</th>\n",
       "      <td>1</td>\n",
       "      <td>79</td>\n",
       "      <td>-1</td>\n",
       "    </tr>\n",
       "    <tr>\n",
       "      <th>3</th>\n",
       "      <td>1</td>\n",
       "      <td>226</td>\n",
       "      <td>-1</td>\n",
       "    </tr>\n",
       "    <tr>\n",
       "      <th>4</th>\n",
       "      <td>1</td>\n",
       "      <td>241</td>\n",
       "      <td>-1</td>\n",
       "    </tr>\n",
       "  </tbody>\n",
       "</table>\n",
       "</div>"
      ],
      "text/plain": [
       "   user_id  anime_id  rating\n",
       "0        1        20      -1\n",
       "1        1        24      -1\n",
       "2        1        79      -1\n",
       "3        1       226      -1\n",
       "4        1       241      -1"
      ]
     },
     "execution_count": 4,
     "metadata": {},
     "output_type": "execute_result"
    }
   ],
   "source": [
    "df_rating.head()"
   ]
  },
  {
   "cell_type": "markdown",
   "id": "76f6cc43",
   "metadata": {
    "papermill": {
     "duration": 0.003708,
     "end_time": "2023-03-09T12:14:18.588845",
     "exception": false,
     "start_time": "2023-03-09T12:14:18.585137",
     "status": "completed"
    },
    "tags": []
   },
   "source": [
    "## Analyse exploratoire des données"
   ]
  },
  {
   "cell_type": "code",
   "execution_count": 5,
   "id": "a38c5a85",
   "metadata": {
    "execution": {
     "iopub.execute_input": "2023-03-09T12:14:18.599188Z",
     "iopub.status.busy": "2023-03-09T12:14:18.598762Z",
     "iopub.status.idle": "2023-03-09T12:14:18.612765Z",
     "shell.execute_reply": "2023-03-09T12:14:18.611414Z"
    },
    "papermill": {
     "duration": 0.022204,
     "end_time": "2023-03-09T12:14:18.615414",
     "exception": false,
     "start_time": "2023-03-09T12:14:18.593210",
     "status": "completed"
    },
    "tags": []
   },
   "outputs": [
    {
     "data": {
      "text/plain": [
       "anime_id      0\n",
       "name          0\n",
       "genre        62\n",
       "type         25\n",
       "episodes      0\n",
       "rating      230\n",
       "members       0\n",
       "dtype: int64"
      ]
     },
     "execution_count": 5,
     "metadata": {},
     "output_type": "execute_result"
    }
   ],
   "source": [
    "df_anime.isna().sum()"
   ]
  },
  {
   "cell_type": "code",
   "execution_count": 6,
   "id": "83ca8357",
   "metadata": {
    "execution": {
     "iopub.execute_input": "2023-03-09T12:14:18.625925Z",
     "iopub.status.busy": "2023-03-09T12:14:18.625362Z",
     "iopub.status.idle": "2023-03-09T12:14:18.667717Z",
     "shell.execute_reply": "2023-03-09T12:14:18.666337Z"
    },
    "papermill": {
     "duration": 0.050673,
     "end_time": "2023-03-09T12:14:18.670453",
     "exception": false,
     "start_time": "2023-03-09T12:14:18.619780",
     "status": "completed"
    },
    "tags": []
   },
   "outputs": [
    {
     "data": {
      "text/plain": [
       "user_id     0\n",
       "anime_id    0\n",
       "rating      0\n",
       "dtype: int64"
      ]
     },
     "execution_count": 6,
     "metadata": {},
     "output_type": "execute_result"
    }
   ],
   "source": [
    "df_rating.isna().sum()"
   ]
  },
  {
   "cell_type": "markdown",
   "id": "64af581a",
   "metadata": {
    "papermill": {
     "duration": 0.00397,
     "end_time": "2023-03-09T12:14:18.678698",
     "exception": false,
     "start_time": "2023-03-09T12:14:18.674728",
     "status": "completed"
    },
    "tags": []
   },
   "source": [
    "## Collaborative filtering"
   ]
  },
  {
   "cell_type": "markdown",
   "id": "afa7d41d",
   "metadata": {
    "papermill": {
     "duration": 0.003984,
     "end_time": "2023-03-09T12:14:18.686840",
     "exception": false,
     "start_time": "2023-03-09T12:14:18.682856",
     "status": "completed"
    },
    "tags": []
   },
   "source": [
    "## Content based filtering"
   ]
  },
  {
   "cell_type": "code",
   "execution_count": null,
   "id": "6aabd84e",
   "metadata": {
    "papermill": {
     "duration": 0.00383,
     "end_time": "2023-03-09T12:14:18.694889",
     "exception": false,
     "start_time": "2023-03-09T12:14:18.691059",
     "status": "completed"
    },
    "tags": []
   },
   "outputs": [],
   "source": []
  }
 ],
 "metadata": {
  "kernelspec": {
   "display_name": "Python 3",
   "language": "python",
   "name": "python3"
  },
  "language_info": {
   "codemirror_mode": {
    "name": "ipython",
    "version": 3
   },
   "file_extension": ".py",
   "mimetype": "text/x-python",
   "name": "python",
   "nbconvert_exporter": "python",
   "pygments_lexer": "ipython3",
   "version": "3.7.12"
  },
  "papermill": {
   "default_parameters": {},
   "duration": 15.336751,
   "end_time": "2023-03-09T12:14:19.422135",
   "environment_variables": {},
   "exception": null,
   "input_path": "__notebook__.ipynb",
   "output_path": "__notebook__.ipynb",
   "parameters": {},
   "start_time": "2023-03-09T12:14:04.085384",
   "version": "2.4.0"
  }
 },
 "nbformat": 4,
 "nbformat_minor": 5
}

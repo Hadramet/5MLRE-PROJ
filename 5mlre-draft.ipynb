{
 "cells": [
  {
   "cell_type": "markdown",
   "id": "f79fce0b",
   "metadata": {
    "papermill": {
     "duration": 0.003295,
     "end_time": "2023-03-08T04:43:51.313963",
     "exception": false,
     "start_time": "2023-03-08T04:43:51.310668",
     "status": "completed"
    },
    "tags": []
   },
   "source": [
    "# 🏯 Anime Recommendations Databas"
   ]
  },
  {
   "cell_type": "markdown",
   "id": "1e8cf99d",
   "metadata": {
    "papermill": {
     "duration": 0.001775,
     "end_time": "2023-03-08T04:43:51.318198",
     "exception": false,
     "start_time": "2023-03-08T04:43:51.316423",
     "status": "completed"
    },
    "tags": []
   },
   "source": [
    "Bienvenue !\n",
    "\n",
    "#### Rappel du sujet\n",
    "\n",
    "TODO ..."
   ]
  },
  {
   "cell_type": "code",
   "execution_count": 1,
   "id": "f1c12b81",
   "metadata": {
    "_cell_guid": "b1076dfc-b9ad-4769-8c92-a6c4dae69d19",
    "_uuid": "8f2839f25d086af736a60e9eeb907d3b93b6e0e5",
    "execution": {
     "iopub.execute_input": "2023-03-08T04:43:51.324123Z",
     "iopub.status.busy": "2023-03-08T04:43:51.323705Z",
     "iopub.status.idle": "2023-03-08T04:43:51.345742Z",
     "shell.execute_reply": "2023-03-08T04:43:51.344293Z"
    },
    "papermill": {
     "duration": 0.029598,
     "end_time": "2023-03-08T04:43:51.349801",
     "exception": false,
     "start_time": "2023-03-08T04:43:51.320203",
     "status": "completed"
    },
    "tags": []
   },
   "outputs": [
    {
     "name": "stdout",
     "output_type": "stream",
     "text": [
      "/kaggle/input/anime-recommendations-database/rating.csv\n",
      "/kaggle/input/anime-recommendations-database/anime.csv\n"
     ]
    }
   ],
   "source": [
    "import numpy as np # linear algebra\n",
    "import pandas as pd # data processing, CSV file I/O (e.g. pd.read_csv)\n",
    "\n",
    "import os\n",
    "for dirname, _, filenames in os.walk('/kaggle/input'):\n",
    "    for filename in filenames:\n",
    "        print(os.path.join(dirname, filename))"
   ]
  },
  {
   "cell_type": "code",
   "execution_count": 2,
   "id": "ac8d0b7c",
   "metadata": {
    "execution": {
     "iopub.execute_input": "2023-03-08T04:43:51.357836Z",
     "iopub.status.busy": "2023-03-08T04:43:51.356591Z",
     "iopub.status.idle": "2023-03-08T04:43:51.361537Z",
     "shell.execute_reply": "2023-03-08T04:43:51.360546Z"
    },
    "papermill": {
     "duration": 0.010971,
     "end_time": "2023-03-08T04:43:51.363832",
     "exception": false,
     "start_time": "2023-03-08T04:43:51.352861",
     "status": "completed"
    },
    "tags": []
   },
   "outputs": [],
   "source": [
    "# TODO"
   ]
  },
  {
   "cell_type": "code",
   "execution_count": null,
   "id": "5f68e22d",
   "metadata": {
    "papermill": {
     "duration": 0.002029,
     "end_time": "2023-03-08T04:43:51.368169",
     "exception": false,
     "start_time": "2023-03-08T04:43:51.366140",
     "status": "completed"
    },
    "tags": []
   },
   "outputs": [],
   "source": []
  }
 ],
 "metadata": {
  "kernelspec": {
   "display_name": "Python 3",
   "language": "python",
   "name": "python3"
  },
  "language_info": {
   "codemirror_mode": {
    "name": "ipython",
    "version": 3
   },
   "file_extension": ".py",
   "mimetype": "text/x-python",
   "name": "python",
   "nbconvert_exporter": "python",
   "pygments_lexer": "ipython3",
   "version": "3.7.12"
  },
  "papermill": {
   "default_parameters": {},
   "duration": 11.477177,
   "end_time": "2023-03-08T04:43:52.095478",
   "environment_variables": {},
   "exception": null,
   "input_path": "__notebook__.ipynb",
   "output_path": "__notebook__.ipynb",
   "parameters": {},
   "start_time": "2023-03-08T04:43:40.618301",
   "version": "2.4.0"
  }
 },
 "nbformat": 4,
 "nbformat_minor": 5
}
